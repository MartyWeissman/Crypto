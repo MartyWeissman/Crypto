{
 "metadata": {
  "name": "",
  "signature": "sha256:5d911c424171a688f1af9ffbe787693f426d19ceaa3a4d6c32d7beba40ccce09"
 },
 "nbformat": 3,
 "nbformat_minor": 0,
 "worksheets": [
  {
   "cells": [
    {
     "cell_type": "code",
     "collapsed": false,
     "input": [
      "pow(2,90) #Computes 2 to the 90th power.  "
     ],
     "language": "python",
     "metadata": {},
     "outputs": [
      {
       "metadata": {},
       "output_type": "pyout",
       "prompt_number": 2,
       "text": [
        "1237940039285380274899124224L"
       ]
      }
     ],
     "prompt_number": 2
    },
    {
     "cell_type": "code",
     "collapsed": false,
     "input": [
      "pow(2,90,91) #Computes 2 to the 90th power, modulo 91."
     ],
     "language": "python",
     "metadata": {},
     "outputs": [
      {
       "metadata": {},
       "output_type": "pyout",
       "prompt_number": 3,
       "text": [
        "64"
       ]
      }
     ],
     "prompt_number": 3
    },
    {
     "cell_type": "code",
     "collapsed": false,
     "input": [
      "pow(2,37**1278, 13**782) # Wow.  This runs really quickly."
     ],
     "language": "python",
     "metadata": {},
     "outputs": [
      {
       "metadata": {},
       "output_type": "pyout",
       "prompt_number": 4,
       "text": [
        "1728824482007164821864356068938700562965378134571560358859078449029447722590923475234835856010424381524744743490887710389318738799921658640039238048052256150589601854407590364849522893355728998094723021950362796980190666329707166872643284353341154756835449050287961971696855578221509065470044104981490145346101213656098357807212259902381546040545639521070029607559440195475860312517267964440539884224130000888810896724781261719255885215431008198240504384973919473510781729075861443620240087895957154525459403900326148992229230576037697322660904837017565943491654597580457043852870046336667384156746145591829038527309712421629963033685601036308963307893177012090260579320508705434657196602005427571792369413856241122449259498847685529493732532899591327358165469740383698026436568952478664605438921164781983027004067944666111258567319753382136091592876874054794739572570749L"
       ]
      }
     ],
     "prompt_number": 4
    },
    {
     "cell_type": "heading",
     "level": 1,
     "metadata": {},
     "source": [
      "Fermat's Little Theorem and Miller-Rabin Test"
     ]
    },
    {
     "cell_type": "code",
     "collapsed": false,
     "input": [
      "pow(2,90,91) # Is 91 prime?  No!"
     ],
     "language": "python",
     "metadata": {},
     "outputs": [
      {
       "metadata": {},
       "output_type": "pyout",
       "prompt_number": 5,
       "text": [
        "64"
       ]
      }
     ],
     "prompt_number": 5
    },
    {
     "cell_type": "code",
     "collapsed": false,
     "input": [
      "pow(3,90,91) # But sometimes it smells prime."
     ],
     "language": "python",
     "metadata": {},
     "outputs": [
      {
       "metadata": {},
       "output_type": "pyout",
       "prompt_number": 6,
       "text": [
        "1"
       ]
      }
     ],
     "prompt_number": 6
    },
    {
     "cell_type": "code",
     "collapsed": false,
     "input": [
      "pow(5,90,91) # Definitely not prime!"
     ],
     "language": "python",
     "metadata": {},
     "outputs": [
      {
       "metadata": {},
       "output_type": "pyout",
       "prompt_number": 7,
       "text": [
        "64"
       ]
      }
     ],
     "prompt_number": 7
    },
    {
     "cell_type": "code",
     "collapsed": true,
     "input": [
      "def pseudoprime(p,b):\n",
      "    ''' Tests whether p is a pseudoprime\n",
      "    with respect to the base b.  This computes\n",
      "    b raised to the (p-1)th power, modulo p.\n",
      "    If the result is 1, the output is True.\n",
      "    '''\n",
      "    return (pow(b,p-1,p) == 1) # A one-liner!\n"
     ],
     "language": "python",
     "metadata": {},
     "outputs": [],
     "prompt_number": 25
    },
    {
     "cell_type": "code",
     "collapsed": false,
     "input": [
      "pseudoprime(91,2)"
     ],
     "language": "python",
     "metadata": {},
     "outputs": [
      {
       "metadata": {},
       "output_type": "pyout",
       "prompt_number": 26,
       "text": [
        "False"
       ]
      }
     ],
     "prompt_number": 26
    },
    {
     "cell_type": "code",
     "collapsed": false,
     "input": [
      "pseudoprime(91,3)"
     ],
     "language": "python",
     "metadata": {},
     "outputs": [
      {
       "metadata": {},
       "output_type": "pyout",
       "prompt_number": 27,
       "text": [
        "True"
       ]
      }
     ],
     "prompt_number": 27
    },
    {
     "cell_type": "code",
     "collapsed": false,
     "input": [
      "pseudoprime(340561,2)"
     ],
     "language": "python",
     "metadata": {},
     "outputs": [
      {
       "metadata": {},
       "output_type": "pyout",
       "prompt_number": 28,
       "text": [
        "True"
       ]
      }
     ],
     "prompt_number": 28
    },
    {
     "cell_type": "code",
     "collapsed": false,
     "input": [
      "pseudoprime(340561,3)"
     ],
     "language": "python",
     "metadata": {},
     "outputs": [
      {
       "metadata": {},
       "output_type": "pyout",
       "prompt_number": 29,
       "text": [
        "True"
       ]
      }
     ],
     "prompt_number": 29
    },
    {
     "cell_type": "code",
     "collapsed": false,
     "input": [
      "pseudoprime(340561,4)"
     ],
     "language": "python",
     "metadata": {},
     "outputs": [
      {
       "metadata": {},
       "output_type": "pyout",
       "prompt_number": 30,
       "text": [
        "True"
       ]
      }
     ],
     "prompt_number": 30
    },
    {
     "cell_type": "code",
     "collapsed": false,
     "input": [
      "pseudoprime(340561,5)"
     ],
     "language": "python",
     "metadata": {},
     "outputs": [
      {
       "metadata": {},
       "output_type": "pyout",
       "prompt_number": 31,
       "text": [
        "True"
       ]
      }
     ],
     "prompt_number": 31
    },
    {
     "cell_type": "code",
     "collapsed": false,
     "input": [
      "pseudoprime(340561,6)"
     ],
     "language": "python",
     "metadata": {},
     "outputs": [
      {
       "metadata": {},
       "output_type": "pyout",
       "prompt_number": 32,
       "text": [
        "True"
       ]
      }
     ],
     "prompt_number": 32
    },
    {
     "cell_type": "code",
     "collapsed": false,
     "input": [
      "pseudoprime(340561,7) # Maybe 340561 is really prime?"
     ],
     "language": "python",
     "metadata": {},
     "outputs": [
      {
       "metadata": {},
       "output_type": "pyout",
       "prompt_number": 33,
       "text": [
        "True"
       ]
      }
     ],
     "prompt_number": 33
    },
    {
     "cell_type": "code",
     "collapsed": false,
     "input": [
      "340561 % 13 # Prime fail."
     ],
     "language": "python",
     "metadata": {},
     "outputs": [
      {
       "metadata": {},
       "output_type": "pyout",
       "prompt_number": 34,
       "text": [
        "0"
       ]
      }
     ],
     "prompt_number": 34
    },
    {
     "cell_type": "heading",
     "level": 2,
     "metadata": {},
     "source": [
      "Miller-Rabin Test to the rescue"
     ]
    },
    {
     "cell_type": "code",
     "collapsed": false,
     "input": [
      "pow(2,560,561)"
     ],
     "language": "python",
     "metadata": {},
     "outputs": [
      {
       "metadata": {},
       "output_type": "pyout",
       "prompt_number": 35,
       "text": [
        "1"
       ]
      }
     ],
     "prompt_number": 35
    },
    {
     "cell_type": "code",
     "collapsed": false,
     "input": [
      "pow(2,280,561) # 280 is half of 560."
     ],
     "language": "python",
     "metadata": {},
     "outputs": [
      {
       "metadata": {},
       "output_type": "pyout",
       "prompt_number": 36,
       "text": [
        "1"
       ]
      }
     ],
     "prompt_number": 36
    },
    {
     "cell_type": "code",
     "collapsed": false,
     "input": [
      "pow(2,140,561) # 140 is half of 280."
     ],
     "language": "python",
     "metadata": {},
     "outputs": [
      {
       "metadata": {},
       "output_type": "pyout",
       "prompt_number": 37,
       "text": [
        "67"
       ]
      }
     ],
     "prompt_number": 37
    },
    {
     "cell_type": "code",
     "collapsed": false,
     "input": [
      "(67 * 67) % 561 # If 561 were prime, this would not result in 1."
     ],
     "language": "python",
     "metadata": {},
     "outputs": [
      {
       "metadata": {},
       "output_type": "pyout",
       "prompt_number": 38,
       "text": [
        "1"
       ]
      }
     ],
     "prompt_number": 38
    },
    {
     "cell_type": "code",
     "collapsed": false,
     "input": [
      "def MR_pseudoprime(p, b):\n",
      "    '''Tests whether p is a Miller-Rabin\n",
      "    pseudoprime, with respect to the base b.\n",
      "    '''\n",
      "    exponent = p-1\n",
      "    x = pow(b,exponent,p)\n",
      "    if (x != 1):\n",
      "        #print b,\"to the \",p-1,\" is not 1, modulo \",p\n",
      "        return False #Fails Fermat's Little Theorem test.\n",
      "    else:\n",
      "        while ((x == 1) and (exponent % 2 == 0)):\n",
      "            exponent = exponent / 2\n",
      "            x = pow(b,exponent,p)\n",
      "            if (x != 1) and (x != p-1):\n",
      "                #print x,\" is not plus/minus 1, but \",x,\" squared is 1 mod \",p\n",
      "                return False #Fails plus/minus 1 test.\n",
      "        return True"
     ],
     "language": "python",
     "metadata": {},
     "outputs": [],
     "prompt_number": 82
    },
    {
     "cell_type": "code",
     "collapsed": false,
     "input": [
      "MR_pseudoprime(340561,2)"
     ],
     "language": "python",
     "metadata": {},
     "outputs": [
      {
       "metadata": {},
       "output_type": "pyout",
       "prompt_number": 83,
       "text": [
        "False"
       ]
      }
     ],
     "prompt_number": 83
    },
    {
     "cell_type": "code",
     "collapsed": false,
     "input": [
      "from random import *"
     ],
     "language": "python",
     "metadata": {},
     "outputs": [],
     "prompt_number": 84
    },
    {
     "cell_type": "code",
     "collapsed": false,
     "input": [
      "randint(1,10) #chooses a random integer between 1 and 10, inclusive!"
     ],
     "language": "python",
     "metadata": {},
     "outputs": [
      {
       "metadata": {},
       "output_type": "pyout",
       "prompt_number": 85,
       "text": [
        "8"
       ]
      }
     ],
     "prompt_number": 85
    },
    {
     "cell_type": "code",
     "collapsed": false,
     "input": [
      "def MillerRabin(p,number_trials):\n",
      "    ''' Tests whether p is prime\n",
      "    by running number_trials iterations through\n",
      "    the Miller Rabin pseudoprime test.\n",
      "    Bases are chosen randomly along the way.\n",
      "    '''\n",
      "    for t in range(number_trials):\n",
      "        b = randint(2,p-2)\n",
      "        if MR_pseudoprime(p,b) == False:\n",
      "            return False # p is not a prime.\n",
      "    return True # p is probably a prime.\n",
      "        "
     ],
     "language": "python",
     "metadata": {},
     "outputs": [],
     "prompt_number": 86
    },
    {
     "cell_type": "code",
     "collapsed": false,
     "input": [
      "MillerRabin(1231783,10)"
     ],
     "language": "python",
     "metadata": {},
     "outputs": [
      {
       "metadata": {},
       "output_type": "pyout",
       "prompt_number": 87,
       "text": [
        "False"
       ]
      }
     ],
     "prompt_number": 87
    },
    {
     "cell_type": "code",
     "collapsed": false,
     "input": [
      "getrandbits(100) # A random 100-bit integer."
     ],
     "language": "python",
     "metadata": {},
     "outputs": [
      {
       "metadata": {},
       "output_type": "pyout",
       "prompt_number": 88,
       "text": [
        "155291395413560570096177513676L"
       ]
      }
     ],
     "prompt_number": 88
    },
    {
     "cell_type": "code",
     "collapsed": false,
     "input": [
      "def findprime(bitlength):\n",
      "    ''' Finds a prime with at least bitlength bits.\n",
      "    a Miller-Rabin probably-prime, at least.\n",
      "    '''\n",
      "    testnumber = getrandbits(bitlength)\n",
      "    #print testnumber,\" is my first guess.\"\n",
      "    while (MillerRabin(testnumber,25) == False):\n",
      "        testnumber += 1\n",
      "    return testnumber"
     ],
     "language": "python",
     "metadata": {},
     "outputs": [],
     "prompt_number": 96
    },
    {
     "cell_type": "code",
     "collapsed": false,
     "input": [
      "findprime(100)"
     ],
     "language": "python",
     "metadata": {},
     "outputs": [
      {
       "metadata": {},
       "output_type": "pyout",
       "prompt_number": 97,
       "text": [
        "914214939904020617790802786063L"
       ]
      }
     ],
     "prompt_number": 97
    },
    {
     "cell_type": "code",
     "collapsed": false,
     "input": [
      "MillerRabin(622928428479282941508884053961,25)"
     ],
     "language": "python",
     "metadata": {},
     "outputs": [
      {
       "metadata": {},
       "output_type": "pyout",
       "prompt_number": 98,
       "text": [
        "True"
       ]
      }
     ],
     "prompt_number": 98
    },
    {
     "cell_type": "heading",
     "level": 1,
     "metadata": {},
     "source": [
      "RSA Cryptography!"
     ]
    },
    {
     "cell_type": "code",
     "collapsed": false,
     "input": [
      "m = 12398712 # Alice's secret message.  Don't tell."
     ],
     "language": "python",
     "metadata": {},
     "outputs": [],
     "prompt_number": 122
    },
    {
     "cell_type": "code",
     "collapsed": false,
     "input": [
      "p = findprime(512) # p and q are Alice's private keys!  Supersecret!\n",
      "q = findprime(512) # These are ~512 bit primes."
     ],
     "language": "python",
     "metadata": {},
     "outputs": [],
     "prompt_number": 123
    },
    {
     "cell_type": "code",
     "collapsed": false,
     "input": [
      "n = p*q # Cannot recover p and q from n alone.\n",
      "e = 65537 # This seems to be a popular value."
     ],
     "language": "python",
     "metadata": {},
     "outputs": [],
     "prompt_number": 124
    },
    {
     "cell_type": "code",
     "collapsed": false,
     "input": [
      "n # n is a really big number."
     ],
     "language": "python",
     "metadata": {},
     "outputs": [
      {
       "metadata": {},
       "output_type": "pyout",
       "prompt_number": 125,
       "text": [
        "28657906080916818397515851008459528315344266485394650911541092921972344356293197804711699801874779527992876705462686720534170681157859952798089902554900074710538062935586755373691571320101041054807727450914691916307682533141166932570171736505567591431587782664837519694478346046714326482285104048416202095489L"
       ]
      }
     ],
     "prompt_number": 125
    },
    {
     "cell_type": "code",
     "collapsed": false,
     "input": [
      "c = pow(m,e,n)"
     ],
     "language": "python",
     "metadata": {},
     "outputs": [],
     "prompt_number": 126
    },
    {
     "cell_type": "code",
     "collapsed": false,
     "input": [
      "c # The ciphertext looks pretty strange, doesn't it!"
     ],
     "language": "python",
     "metadata": {},
     "outputs": [
      {
       "metadata": {},
       "output_type": "pyout",
       "prompt_number": 127,
       "text": [
        "3853464091192376251478153163534457959360725523603900178537538368911191751080177205974482613740373543057623853929169537289946323535606235441491392010059291391983695323002917360928241812678920062560988868219512802649653078731616893782013384963573945771073763630625595601510958222972773669895511507881503659974L"
       ]
      }
     ],
     "prompt_number": 127
    },
    {
     "cell_type": "code",
     "collapsed": false,
     "input": [
      "def invert(number,modulus):\n",
      "    '''\n",
      "    Finds the multiplicative inverse of number mod modulus.\n",
      "    Remember, ax = 1 mod m means that\n",
      "    ax - my = 1 for some integer y. \n",
      "    Code from Wikipedia.  Hope it works!\n",
      "    '''\n",
      "    t = 0\n",
      "    newt = 1    \n",
      "    r = modulus\n",
      "    newr = number \n",
      "    while (newr != 0):\n",
      "        quotient = r / newr\n",
      "        t, newt = newt, t - quotient * newt \n",
      "        r, newr = newr, r - quotient * newr\n",
      "    if r > 1:\n",
      "        return \"a is not invertible\"\n",
      "    if t < 0:\n",
      "        t = t + modulus\n",
      "    return t"
     ],
     "language": "python",
     "metadata": {},
     "outputs": [],
     "prompt_number": 128
    },
    {
     "cell_type": "code",
     "collapsed": false,
     "input": [
      "invert(3,13)"
     ],
     "language": "python",
     "metadata": {},
     "outputs": [
      {
       "metadata": {},
       "output_type": "pyout",
       "prompt_number": 129,
       "text": [
        "9"
       ]
      }
     ],
     "prompt_number": 129
    },
    {
     "cell_type": "code",
     "collapsed": false,
     "input": [
      "d = invert(e, (p-1)*(q-1))"
     ],
     "language": "python",
     "metadata": {},
     "outputs": [],
     "prompt_number": 130
    },
    {
     "cell_type": "code",
     "collapsed": false,
     "input": [
      "d"
     ],
     "language": "python",
     "metadata": {},
     "outputs": [
      {
       "metadata": {},
       "output_type": "pyout",
       "prompt_number": 131,
       "text": [
        "7665925378100199022336243404936203837470441670437365535960249935381497000323115960669557795240349114320812999122119732329593149081868911187623999903717792815761925059330561857379087418699148004568480938488006821269999342052909525999681178284204147701986775131426440861577274965032727634634523438313846953053L"
       ]
      }
     ],
     "prompt_number": 131
    },
    {
     "cell_type": "code",
     "collapsed": false,
     "input": [
      "maybe = pow(c,d,n)"
     ],
     "language": "python",
     "metadata": {},
     "outputs": [],
     "prompt_number": 132
    },
    {
     "cell_type": "code",
     "collapsed": false,
     "input": [
      "maybe # Keep your fingers crossed!"
     ],
     "language": "python",
     "metadata": {},
     "outputs": [
      {
       "metadata": {},
       "output_type": "pyout",
       "prompt_number": 133,
       "text": [
        "12398712L"
       ]
      }
     ],
     "prompt_number": 133
    },
    {
     "cell_type": "code",
     "collapsed": false,
     "input": [],
     "language": "python",
     "metadata": {},
     "outputs": []
    }
   ],
   "metadata": {}
  }
 ]
}